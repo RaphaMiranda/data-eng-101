{
 "cells": [
  {
   "cell_type": "markdown",
   "metadata": {},
   "source": []
  },
  {
   "cell_type": "code",
   "execution_count": 6,
   "metadata": {},
   "outputs": [],
   "source": [
    "from pyspark.sql import SparkSession\n",
    "from pyspark.sql.functions import current_timestamp, lit"
   ]
  },
  {
   "cell_type": "code",
   "execution_count": 8,
   "metadata": {},
   "outputs": [
    {
     "data": {
      "text/plain": [
       "DataFrame[EmpID: int, FirstName: string, LastName: string, StartDate: string, ExitDate: string, Title: string, Supervisor: string, ADEmail: string, BusinessUnit: string, EmployeeStatus: string, EmployeeType: string, PayZone: string, EmployeeClassificationType: string, TerminationType: string, TerminationDescription: string, DepartmentType: string, Division: string, DOB: string, State: string, JobFunctionDescription: string, GenderCode: string, LocationCode: int, RaceDesc: string, MaritalDesc: string, Performance Score: string, Current Employee Rating: int]"
      ]
     },
     "metadata": {},
     "output_type": "display_data"
    },
    {
     "data": {
      "text/plain": [
       "Row(EmpID=3427, FirstName='Uriah', LastName='Bridges', StartDate='20-Sep-19', ExitDate=None, Title='Production Technician I', Supervisor='Peter Oneill', ADEmail='uriah.bridges@bilearner.com', BusinessUnit='CCDR', EmployeeStatus='Active', EmployeeType='Contract', PayZone='Zone C', EmployeeClassificationType='Temporary', TerminationType='Unk', TerminationDescription=None, DepartmentType='Production       ', Division='Finance & Accounting', DOB='07-10-1969', State='MA', JobFunctionDescription='Accounting', GenderCode='Female', LocationCode=34904, RaceDesc='White', MaritalDesc='Widowed', Performance Score='Fully Meets', Current Employee Rating=4)"
      ]
     },
     "execution_count": 8,
     "metadata": {},
     "output_type": "execute_result"
    }
   ],
   "source": [
    "# Define the file path and table name\n",
    "spark = SparkSession.builder \\\n",
    "    .appName(\"CSV to Databricks Table\") \\\n",
    "    .getOrCreate()\n",
    "\n",
    "file_path = './data/employee_data.csv'\n",
    "table_name = 'employee_data'\n",
    "\n",
    "# Load the CSV into a Spark DataFrame\n",
    "spark_df = spark.read.format('csv').option('header', 'true').option('inferSchema', 'true').load(file_path)\n",
    "\n",
    "display(spark_df)\n",
    "\n",
    "spark_df.head()\n"
   ]
  },
  {
   "cell_type": "code",
   "execution_count": null,
   "metadata": {},
   "outputs": [],
   "source": [
    "# Add scdDateTime column with the current timestamp\n",
    "spark_df = spark_df.withColumn(\"scdDateTime\", current_timestamp())\n",
    "\n",
    "# Add isCurrent column with a default value of True\n",
    "spark_df = spark_df.withColumn(\"isCurrent\", lit(True))"
   ]
  },
  {
   "cell_type": "code",
   "execution_count": null,
   "metadata": {},
   "outputs": [],
   "source": [
    "# Write the DataFrame to a Databricks table, creating the table if it does not exist\n",
    "spark_df.write.format('delta').mode('overwrite').saveAsTable(table_name)"
   ]
  }
 ],
 "metadata": {
  "kernelspec": {
   "display_name": "Python 3",
   "language": "python",
   "name": "python3"
  },
  "language_info": {
   "codemirror_mode": {
    "name": "ipython",
    "version": 3
   },
   "file_extension": ".py",
   "mimetype": "text/x-python",
   "name": "python",
   "nbconvert_exporter": "python",
   "pygments_lexer": "ipython3",
   "version": "3.11.0"
  }
 },
 "nbformat": 4,
 "nbformat_minor": 2
}
